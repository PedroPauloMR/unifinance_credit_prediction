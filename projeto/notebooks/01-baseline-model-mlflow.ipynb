{
 "cells": [
  {
   "cell_type": "markdown",
   "metadata": {},
   "source": [
    "# Imports"
   ]
  },
  {
   "cell_type": "code",
   "execution_count": 5,
   "metadata": {},
   "outputs": [],
   "source": [
    "from sklearn.pipeline import Pipeline\n",
    "from feature_engine.discretisation import EqualFrequencyDiscretiser, EqualWidthDiscretiser\n",
    "from feature_engine.imputation import MeanMedianImputer\n",
    "from feature_engine.wrappers import SklearnTransformerWrapper\n",
    "from sklearn.preprocessing import RobustScaler, StandardScaler\n",
    "\n",
    "import sys\n",
    "import joblib\n",
    "sys.path.insert(0,'../src/')\n",
    "from utils.utils import load_config_file\n",
    "\n",
    "from data.data_load import DataLoad\n",
    "from data.data_validation import DataValidation\n",
    "from data.data_transformation import DataTransformation\n",
    "from data.data_preprocess import DataPreprocess\n",
    "from train.train import TrainModels\n",
    "from sklearn.linear_model import LogisticRegression\n",
    "from evaluation.classifier_eval import ModelEvaluation"
   ]
  },
  {
   "cell_type": "markdown",
   "metadata": {},
   "source": [
    "# Data Load"
   ]
  },
  {
   "cell_type": "code",
   "execution_count": 6,
   "metadata": {},
   "outputs": [
    {
     "name": "stdout",
     "output_type": "stream",
     "text": [
      "2024-01-18 06:43:25 [info     ] Initiating data load with name: train_dataset_name\n"
     ]
    }
   ],
   "source": [
    "dl = DataLoad()\n",
    "df = dl.load_data('train_dataset_name')"
   ]
  },
  {
   "cell_type": "code",
   "execution_count": null,
   "metadata": {},
   "outputs": [],
   "source": []
  },
  {
   "cell_type": "markdown",
   "metadata": {},
   "source": [
    "# Data Validation"
   ]
  },
  {
   "cell_type": "code",
   "execution_count": 7,
   "metadata": {},
   "outputs": [
    {
     "name": "stdout",
     "output_type": "stream",
     "text": [
      "2024-01-18 06:43:25 [info     ] Initiating validation...      \n",
      "2024-01-18 06:43:25 [info     ] Validation columns passed...  \n",
      "2024-01-18 06:43:25 [info     ] Success on validate data      \n"
     ]
    }
   ],
   "source": [
    "dv = DataValidation()\n",
    "is_valid = dv.run(df)"
   ]
  },
  {
   "cell_type": "code",
   "execution_count": null,
   "metadata": {},
   "outputs": [],
   "source": []
  },
  {
   "cell_type": "markdown",
   "metadata": {},
   "source": [
    "# Data Transformation"
   ]
  },
  {
   "cell_type": "code",
   "execution_count": 8,
   "metadata": {},
   "outputs": [],
   "source": [
    "dt = DataTransformation(df)"
   ]
  },
  {
   "cell_type": "code",
   "execution_count": 9,
   "metadata": {},
   "outputs": [],
   "source": [
    "X_train, X_val, y_train, y_val = dt.train_test_spliting()"
   ]
  },
  {
   "cell_type": "code",
   "execution_count": null,
   "metadata": {},
   "outputs": [],
   "source": []
  },
  {
   "cell_type": "markdown",
   "metadata": {},
   "source": [
    "# Experimentations"
   ]
  },
  {
   "cell_type": "code",
   "execution_count": 10,
   "metadata": {},
   "outputs": [],
   "source": [
    "import mlflow\n",
    "from mlflow.tracking import MlflowClient"
   ]
  },
  {
   "cell_type": "code",
   "execution_count": 11,
   "metadata": {},
   "outputs": [
    {
     "data": {
      "text/plain": [
       "<Experiment: artifact_location='mlflow-artifacts:/1', creation_time=1705570296224, experiment_id='1', last_update_time=1705570296224, lifecycle_stage='active', name='prob_loan', tags={}>"
      ]
     },
     "execution_count": 11,
     "metadata": {},
     "output_type": "execute_result"
    }
   ],
   "source": [
    "mlflow.set_tracking_uri('http://127.0.0.1:5000')\n",
    "mlflow.set_experiment('prob_loan')"
   ]
  },
  {
   "cell_type": "code",
   "execution_count": 14,
   "metadata": {},
   "outputs": [
    {
     "name": "stdout",
     "output_type": "stream",
     "text": [
      "2024-01-18 06:44:57 [info     ] Starting preprocessing...     \n"
     ]
    },
    {
     "name": "stdout",
     "output_type": "stream",
     "text": [
      "2024-01-18 06:44:57 [info     ] Initiating preprocessor data transformation...\n",
      "2024-01-18 06:44:57 [info     ] Initiating preprocessor data transformation...\n",
      "2024-01-18 06:44:58 [info     ] Initiating cross validation...\n",
      "2024-01-18 06:44:59 [info     ] Initiating model validation...\n"
     ]
    }
   ],
   "source": [
    "with mlflow.start_run(run_name='baseline'):\n",
    "    mlflow.set_tag('model_name','lr_baseline')\n",
    "\n",
    "    pipe = Pipeline(\n",
    "    [\n",
    "    ('imputer', MeanMedianImputer(variables=load_config_file().get('vars_imputer'))),\n",
    "        #('discretizer', EqualFrequencyDiscretiser(variables=load_config_file().get('vars_discretizer'))),\n",
    "            ('scaler', SklearnTransformerWrapper(StandardScaler()))\n",
    "        ]\n",
    "            )\n",
    "    \n",
    "    preprocessor = DataPreprocess(pipe)\n",
    "\n",
    "    preprocessor.train(X_train)\n",
    "\n",
    "    X_train_processed = preprocessor.transform(X_train)\n",
    "    X_val_processed = preprocessor.transform(X_val)\n",
    "    joblib.dump(preprocessor,'../models/preprocessor.pkl')\n",
    "\n",
    "    mlflow.log_artifact('../models/preprocessor.pkl')\n",
    "    mlflow.log_params(params={'imputer':pipe['imputer'], 'scaler': pipe['scaler']})\n",
    "\n",
    "    model = LogisticRegression()\n",
    "\n",
    "    model_eval = ModelEvaluation(model, X_train_processed, y_train, n_splits=5)\n",
    "    roc_auc_scores = model_eval.cross_val_evaluate()\n",
    "    mlflow.log_metric('train_roc_auc',roc_auc_scores.mean())\n",
    "\n",
    "    model.fit(X_train_processed, y_train)\n",
    "\n",
    "    y_val_preds = model_eval.model.predict_proba(X_val_processed)[:,1]\n",
    "    val_roc_auc = model_eval.evaluate_predictions(y_val,y_val_preds)\n",
    "    mlflow.log_metric('val_roc_auc',val_roc_auc)\n",
    "\n",
    "\n",
    "    mlflow.sklearn.log_model(model, 'lr_model',pyfunc_predict_fn='predict_proba')\n",
    "    mlflow.end_run()"
   ]
  },
  {
   "cell_type": "markdown",
   "metadata": {},
   "source": [
    "## Experimento 01"
   ]
  },
  {
   "cell_type": "code",
   "execution_count": 16,
   "metadata": {},
   "outputs": [],
   "source": [
    "from mlflow.models import MetricThreshold, infer_signature\n",
    "from sklearn.dummy import DummyClassifier"
   ]
  },
  {
   "cell_type": "code",
   "execution_count": 17,
   "metadata": {},
   "outputs": [
    {
     "name": "stdout",
     "output_type": "stream",
     "text": [
      "2024-01-18 07:00:36 [info     ] Starting preprocessing...     \n",
      "2024-01-18 07:00:36 [info     ] Initiating preprocessor data transformation...\n",
      "2024-01-18 07:00:36 [info     ] Initiating preprocessor data transformation...\n",
      "2024-01-18 07:00:36 [info     ] Initiating cross validation...\n",
      "2024-01-18 07:00:37 [info     ] Initiating model validation...\n"
     ]
    },
    {
     "name": "stderr",
     "output_type": "stream",
     "text": [
      "c:\\Users\\Pedro\\.conda\\envs\\mlflow\\lib\\site-packages\\_distutils_hack\\__init__.py:18: UserWarning: Distutils was imported before Setuptools, but importing Setuptools also replaces the `distutils` module in `sys.modules`. This may lead to undesirable behaviors or errors. To avoid these issues, avoid using distutils directly, ensure that setuptools is installed in the traditional way (e.g. not an editable install), and/or make sure that setuptools is always imported before distutils.\n",
      "  warnings.warn(\n",
      "c:\\Users\\Pedro\\.conda\\envs\\mlflow\\lib\\site-packages\\_distutils_hack\\__init__.py:33: UserWarning: Setuptools is replacing distutils.\n",
      "  warnings.warn(\"Setuptools is replacing distutils.\")\n",
      "c:\\Users\\Pedro\\.conda\\envs\\mlflow\\lib\\site-packages\\mlflow\\models\\signature.py:213: UserWarning: Hint: Inferred schema contains integer column(s). Integer columns in Python cannot represent missing values. If your input data contains missing values at inference time, it will be encoded as floats and will cause a schema enforcement error. The best way to avoid this problem is to infer the model schema based on a realistic data sample (training dataset) that includes missing values. Alternatively, you can declare integer columns as doubles (float64) whenever these columns may have missing values. See `Handling Integers With Missing Values <https://www.mlflow.org/docs/latest/models.html#handling-integers-with-missing-values>`_ for more details.\n",
      "  outputs = _infer_schema(model_output) if model_output is not None else None\n",
      "c:\\Users\\Pedro\\.conda\\envs\\mlflow\\lib\\site-packages\\_distutils_hack\\__init__.py:18: UserWarning: Distutils was imported before Setuptools, but importing Setuptools also replaces the `distutils` module in `sys.modules`. This may lead to undesirable behaviors or errors. To avoid these issues, avoid using distutils directly, ensure that setuptools is installed in the traditional way (e.g. not an editable install), and/or make sure that setuptools is always imported before distutils.\n",
      "  warnings.warn(\n",
      "c:\\Users\\Pedro\\.conda\\envs\\mlflow\\lib\\site-packages\\_distutils_hack\\__init__.py:33: UserWarning: Setuptools is replacing distutils.\n",
      "  warnings.warn(\"Setuptools is replacing distutils.\")\n",
      "c:\\Users\\Pedro\\.conda\\envs\\mlflow\\lib\\site-packages\\pydantic\\_internal\\_config.py:321: UserWarning: Valid config keys have changed in V2:\n",
      "* 'schema_extra' has been renamed to 'json_schema_extra'\n",
      "  warnings.warn(message, UserWarning)\n",
      "c:\\Users\\Pedro\\.conda\\envs\\mlflow\\lib\\site-packages\\tqdm\\auto.py:21: TqdmWarning: IProgress not found. Please update jupyter and ipywidgets. See https://ipywidgets.readthedocs.io/en/stable/user_install.html\n",
      "  from .autonotebook import tqdm as notebook_tqdm\n",
      "Downloading artifacts: 100%|██████████| 5/5 [00:00<00:00, 714.26it/s] \n",
      "Downloading artifacts: 100%|██████████| 5/5 [00:00<00:00, 106.38it/s]\n",
      "c:\\Users\\Pedro\\.conda\\envs\\mlflow\\lib\\site-packages\\mlflow\\data\\digest_utils.py:26: FutureWarning: DataFrame.applymap has been deprecated. Use DataFrame.map instead.\n",
      "  string_columns = trimmed_df.columns[(df.applymap(type) == str).all(0)]\n",
      "c:\\Users\\Pedro\\.conda\\envs\\mlflow\\lib\\site-packages\\mlflow\\models\\evaluation\\base.py:414: FutureWarning: DataFrame.applymap has been deprecated. Use DataFrame.map instead.\n",
      "  data = data.applymap(_hash_array_like_element_as_bytes)\n",
      "c:\\Users\\Pedro\\.conda\\envs\\mlflow\\lib\\site-packages\\mlflow\\models\\evaluation\\base.py:414: FutureWarning: DataFrame.applymap has been deprecated. Use DataFrame.map instead.\n",
      "  data = data.applymap(_hash_array_like_element_as_bytes)\n",
      "c:\\Users\\Pedro\\.conda\\envs\\mlflow\\lib\\site-packages\\mlflow\\data\\pandas_dataset.py:134: UserWarning: Hint: Inferred schema contains integer column(s). Integer columns in Python cannot represent missing values. If your input data contains missing values at inference time, it will be encoded as floats and will cause a schema enforcement error. The best way to avoid this problem is to infer the model schema based on a realistic data sample (training dataset) that includes missing values. Alternatively, you can declare integer columns as doubles (float64) whenever these columns may have missing values. See `Handling Integers With Missing Values <https://www.mlflow.org/docs/latest/models.html#handling-integers-with-missing-values>`_ for more details.\n",
      "  return _infer_schema(self._df)\n",
      "2024/01/18 07:00:45 INFO mlflow.models.evaluation.base: Evaluating the model with the default evaluator.\n",
      "2024/01/18 07:00:45 INFO mlflow.models.evaluation.default_evaluator: Evaluating candidate model:\n",
      "2024/01/18 07:00:45 INFO mlflow.models.evaluation.default_evaluator: Computing model predictions.\n",
      "2024/01/18 07:00:45 INFO mlflow.models.evaluation.default_evaluator: The evaluation dataset is inferred as binary dataset, positive label is 1, negative label is 0.\n",
      "2024/01/18 07:00:45 INFO mlflow.models.evaluation.default_evaluator: Testing metrics on first row...\n",
      "2024/01/18 07:00:47 INFO mlflow.models.evaluation.default_evaluator: Shap explainer LinearExplainer is used.\n",
      "Unable to serialize underlying model using MLflow, will use SHAP serialization\n",
      "2024/01/18 07:00:47 WARNING mlflow.models.evaluation.default_evaluator: Logging explainer failed. Reason: AttributeError(\"'LogisticRegression' object has no attribute 'save'\"). Set logging level to DEBUG to see the full traceback.\n",
      "2024/01/18 07:00:49 INFO mlflow.models.evaluation.default_evaluator: Evaluating baseline model:\n",
      "2024/01/18 07:00:49 INFO mlflow.models.evaluation.default_evaluator: Computing model predictions.\n",
      "2024/01/18 07:00:49 INFO mlflow.models.evaluation.default_evaluator: The evaluation dataset is inferred as binary dataset, positive label is 1, negative label is 0.\n",
      "2024/01/18 07:00:49 INFO mlflow.models.evaluation.default_evaluator: Testing metrics on first row...\n",
      "2024/01/18 07:00:49 INFO mlflow.models.evaluation.base: Validating generated model metrics\n",
      "2024/01/18 07:00:49 INFO mlflow.models.evaluation.base: Model validation passed!\n",
      "  2%|▏         | 575/37500 [02:10<2:19:22,  4.42it/s]\n"
     ]
    },
    {
     "ename": "KeyboardInterrupt",
     "evalue": "",
     "output_type": "error",
     "traceback": [
      "\u001b[1;31m---------------------------------------------------------------------------\u001b[0m",
      "\u001b[1;31mKeyboardInterrupt\u001b[0m                         Traceback (most recent call last)",
      "Cell \u001b[1;32mIn[17], line 55\u001b[0m\n\u001b[0;32m     50\u001b[0m mlflow\u001b[38;5;241m.\u001b[39mevaluate(candidate_model_uri,eval_data, \n\u001b[0;32m     51\u001b[0m                 targets\u001b[38;5;241m=\u001b[39m\u001b[38;5;124m'\u001b[39m\u001b[38;5;124mlabel\u001b[39m\u001b[38;5;124m'\u001b[39m,model_type\u001b[38;5;241m=\u001b[39m\u001b[38;5;124m'\u001b[39m\u001b[38;5;124mclassifier\u001b[39m\u001b[38;5;124m'\u001b[39m,validation_thresholds\u001b[38;5;241m=\u001b[39mthresholds,\n\u001b[0;32m     52\u001b[0m                 baseline_model \u001b[38;5;241m=\u001b[39m baseline_model_uri)\n\u001b[0;32m     54\u001b[0m \u001b[38;5;66;03m# explicabilidade shape\u001b[39;00m\n\u001b[1;32m---> 55\u001b[0m \u001b[43mmlflow\u001b[49m\u001b[38;5;241;43m.\u001b[39;49m\u001b[43mshap\u001b[49m\u001b[38;5;241;43m.\u001b[39;49m\u001b[43mlog_explanation\u001b[49m\u001b[43m(\u001b[49m\u001b[43mmodel\u001b[49m\u001b[38;5;241;43m.\u001b[39;49m\u001b[43mpredict\u001b[49m\u001b[43m,\u001b[49m\u001b[43mX_val_processed\u001b[49m\u001b[38;5;241;43m.\u001b[39;49m\u001b[43mdrop\u001b[49m\u001b[43m(\u001b[49m\u001b[38;5;124;43m'\u001b[39;49m\u001b[38;5;124;43mlabel\u001b[39;49m\u001b[38;5;124;43m'\u001b[39;49m\u001b[43m,\u001b[49m\u001b[43m \u001b[49m\u001b[43maxis\u001b[49m\u001b[43m \u001b[49m\u001b[38;5;241;43m=\u001b[39;49m\u001b[43m \u001b[49m\u001b[38;5;241;43m1\u001b[39;49m\u001b[43m)\u001b[49m\u001b[43m)\u001b[49m\n\u001b[0;32m     56\u001b[0m mlflow\u001b[38;5;241m.\u001b[39mend_run()\n",
      "File \u001b[1;32mc:\\Users\\Pedro\\.conda\\envs\\mlflow\\lib\\site-packages\\mlflow\\shap\\__init__.py:275\u001b[0m, in \u001b[0;36mlog_explanation\u001b[1;34m(predict_function, features, artifact_path)\u001b[0m\n\u001b[0;32m    273\u001b[0m background_data \u001b[38;5;241m=\u001b[39m shap\u001b[38;5;241m.\u001b[39mkmeans(features, \u001b[38;5;28mmin\u001b[39m(_MAXIMUM_BACKGROUND_DATA_SIZE, \u001b[38;5;28mlen\u001b[39m(features)))\n\u001b[0;32m    274\u001b[0m explainer \u001b[38;5;241m=\u001b[39m shap\u001b[38;5;241m.\u001b[39mKernelExplainer(predict_function, background_data)\n\u001b[1;32m--> 275\u001b[0m shap_values \u001b[38;5;241m=\u001b[39m \u001b[43mexplainer\u001b[49m\u001b[38;5;241;43m.\u001b[39;49m\u001b[43mshap_values\u001b[49m\u001b[43m(\u001b[49m\u001b[43mfeatures\u001b[49m\u001b[43m)\u001b[49m\n\u001b[0;32m    277\u001b[0m _log_numpy(explainer\u001b[38;5;241m.\u001b[39mexpected_value, _BASE_VALUES_FILE_NAME, artifact_path)\n\u001b[0;32m    278\u001b[0m _log_numpy(shap_values, _SHAP_VALUES_FILE_NAME, artifact_path)\n",
      "File \u001b[1;32mc:\\Users\\Pedro\\.conda\\envs\\mlflow\\lib\\site-packages\\shap\\explainers\\_kernel.py:244\u001b[0m, in \u001b[0;36mKernelExplainer.shap_values\u001b[1;34m(self, X, **kwargs)\u001b[0m\n\u001b[0;32m    242\u001b[0m \u001b[38;5;28;01mif\u001b[39;00m \u001b[38;5;28mself\u001b[39m\u001b[38;5;241m.\u001b[39mkeep_index:\n\u001b[0;32m    243\u001b[0m     data \u001b[38;5;241m=\u001b[39m convert_to_instance_with_index(data, column_name, index_value[i:i \u001b[38;5;241m+\u001b[39m \u001b[38;5;241m1\u001b[39m], index_name)\n\u001b[1;32m--> 244\u001b[0m explanations\u001b[38;5;241m.\u001b[39mappend(\u001b[38;5;28mself\u001b[39m\u001b[38;5;241m.\u001b[39mexplain(data, \u001b[38;5;241m*\u001b[39m\u001b[38;5;241m*\u001b[39mkwargs))\n\u001b[0;32m    245\u001b[0m \u001b[38;5;28;01mif\u001b[39;00m kwargs\u001b[38;5;241m.\u001b[39mget(\u001b[38;5;124m\"\u001b[39m\u001b[38;5;124mgc_collect\u001b[39m\u001b[38;5;124m\"\u001b[39m, \u001b[38;5;28;01mFalse\u001b[39;00m):\n\u001b[0;32m    246\u001b[0m     gc\u001b[38;5;241m.\u001b[39mcollect()\n",
      "File \u001b[1;32mc:\\Users\\Pedro\\.conda\\envs\\mlflow\\lib\\site-packages\\shap\\explainers\\_kernel.py:442\u001b[0m, in \u001b[0;36mKernelExplainer.explain\u001b[1;34m(self, incoming_instance, **kwargs)\u001b[0m\n\u001b[0;32m    439\u001b[0m     \u001b[38;5;28mself\u001b[39m\u001b[38;5;241m.\u001b[39mkernelWeights[nfixed_samples:] \u001b[38;5;241m*\u001b[39m\u001b[38;5;241m=\u001b[39m weight_left \u001b[38;5;241m/\u001b[39m \u001b[38;5;28mself\u001b[39m\u001b[38;5;241m.\u001b[39mkernelWeights[nfixed_samples:]\u001b[38;5;241m.\u001b[39msum()\n\u001b[0;32m    441\u001b[0m \u001b[38;5;66;03m# execute the model on the synthetic samples we have created\u001b[39;00m\n\u001b[1;32m--> 442\u001b[0m \u001b[38;5;28;43mself\u001b[39;49m\u001b[38;5;241;43m.\u001b[39;49m\u001b[43mrun\u001b[49m\u001b[43m(\u001b[49m\u001b[43m)\u001b[49m\n\u001b[0;32m    444\u001b[0m \u001b[38;5;66;03m# solve then expand the feature importance (Shapley value) vector to contain the non-varying features\u001b[39;00m\n\u001b[0;32m    445\u001b[0m phi \u001b[38;5;241m=\u001b[39m np\u001b[38;5;241m.\u001b[39mzeros((\u001b[38;5;28mself\u001b[39m\u001b[38;5;241m.\u001b[39mdata\u001b[38;5;241m.\u001b[39mgroups_size, \u001b[38;5;28mself\u001b[39m\u001b[38;5;241m.\u001b[39mD))\n",
      "File \u001b[1;32mc:\\Users\\Pedro\\.conda\\envs\\mlflow\\lib\\site-packages\\shap\\explainers\\_kernel.py:593\u001b[0m, in \u001b[0;36mKernelExplainer.run\u001b[1;34m(self)\u001b[0m\n\u001b[0;32m    590\u001b[0m     eyVal \u001b[38;5;241m+\u001b[39m\u001b[38;5;241m=\u001b[39m \u001b[38;5;28mself\u001b[39m\u001b[38;5;241m.\u001b[39my[i \u001b[38;5;241m*\u001b[39m \u001b[38;5;28mself\u001b[39m\u001b[38;5;241m.\u001b[39mN \u001b[38;5;241m+\u001b[39m j, :] \u001b[38;5;241m*\u001b[39m \u001b[38;5;28mself\u001b[39m\u001b[38;5;241m.\u001b[39mdata\u001b[38;5;241m.\u001b[39mweights[j]\n\u001b[0;32m    592\u001b[0m \u001b[38;5;28mself\u001b[39m\u001b[38;5;241m.\u001b[39mey[i, :] \u001b[38;5;241m=\u001b[39m eyVal\n\u001b[1;32m--> 593\u001b[0m \u001b[38;5;28mself\u001b[39m\u001b[38;5;241m.\u001b[39mnsamplesRun \u001b[38;5;241m+\u001b[39m\u001b[38;5;241m=\u001b[39m \u001b[38;5;241m1\u001b[39m\n",
      "\u001b[1;31mKeyboardInterrupt\u001b[0m: "
     ]
    }
   ],
   "source": [
    "with mlflow.start_run(run_name='with_discretizer'):\n",
    "    mlflow.set_tag('model_name','lr_discretizer')\n",
    "\n",
    "    pipe = Pipeline(\n",
    "    [\n",
    "    ('imputer', MeanMedianImputer(variables=load_config_file().get('vars_imputer'))),\n",
    "        ('discretizer', EqualFrequencyDiscretiser(variables=load_config_file().get('vars_discretizer'))),\n",
    "            ('scaler', SklearnTransformerWrapper(StandardScaler()))\n",
    "        ]\n",
    "            )\n",
    "    \n",
    "    preprocessor = DataPreprocess(pipe)\n",
    "\n",
    "    preprocessor.train(X_train)\n",
    "\n",
    "    X_train_processed = preprocessor.transform(X_train)\n",
    "    X_val_processed = preprocessor.transform(X_val)\n",
    "    joblib.dump(preprocessor,'../models/preprocessor.pkl')\n",
    "\n",
    "    mlflow.log_artifact('../models/preprocessor.pkl')\n",
    "    mlflow.log_params(params={'imputer':pipe['imputer'], 'discretizer': pipe['discretizer'], 'scaler': pipe['scaler']})\n",
    "\n",
    "    model = LogisticRegression()\n",
    "\n",
    "    model_eval = ModelEvaluation(model, X_train_processed, y_train, n_splits=5)\n",
    "    roc_auc_scores = model_eval.cross_val_evaluate()\n",
    "    mlflow.log_metric('train_roc_auc',roc_auc_scores.mean())\n",
    "\n",
    "    model.fit(X_train_processed, y_train)\n",
    "\n",
    "    y_val_preds = model_eval.model.predict_proba(X_val_processed)[:,1]\n",
    "    val_roc_auc = model_eval.evaluate_predictions(y_val,y_val_preds)\n",
    "    mlflow.log_metric('val_roc_auc',val_roc_auc)\n",
    "\n",
    "\n",
    "    candidate_model_uri = mlflow.sklearn.log_model(model, 'lr_model').model_uri\n",
    "\n",
    "    signature = infer_signature(X_val_processed, y_val)\n",
    "\n",
    "    eval_data = X_val_processed\n",
    "    eval_data['label'] = y_val\n",
    "\n",
    "    thresholds = {\n",
    "        'accuracy_score': MetricThreshold(threshold=0.7, # o score da acuracia precisa ser > 0,7\n",
    "                        min_absolute_change=0.05, min_relative_change=0.05, greater_is_better=True)\n",
    "    }\n",
    "    baseline_model = DummyClassifier(strategy='uniform').fit(X_train_processed, y_train)\n",
    "    baseline_model_uri = mlflow.sklearn.log_model(baseline_model, 'baseline_model',signature=signature).model_uri\n",
    "\n",
    "    mlflow.evaluate(candidate_model_uri,eval_data, \n",
    "                    targets='label',model_type='classifier',validation_thresholds=thresholds,\n",
    "                    baseline_model = baseline_model_uri)\n",
    "    \n",
    "    # explicabilidade shape\n",
    "    mlflow.shap.log_explanation(model.predict,X_val_processed.drop('label', axis = 1))\n",
    "    mlflow.end_run()"
   ]
  },
  {
   "cell_type": "code",
   "execution_count": null,
   "metadata": {},
   "outputs": [],
   "source": []
  }
 ],
 "metadata": {
  "kernelspec": {
   "display_name": "Python 3",
   "language": "python",
   "name": "python3"
  },
  "language_info": {
   "codemirror_mode": {
    "name": "ipython",
    "version": 3
   },
   "file_extension": ".py",
   "mimetype": "text/x-python",
   "name": "python",
   "nbconvert_exporter": "python",
   "pygments_lexer": "ipython3",
   "version": "3.10.12"
  }
 },
 "nbformat": 4,
 "nbformat_minor": 2
}
