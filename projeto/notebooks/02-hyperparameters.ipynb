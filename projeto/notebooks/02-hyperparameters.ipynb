{
 "cells": [
  {
   "cell_type": "markdown",
   "metadata": {},
   "source": [
    "# Imports"
   ]
  },
  {
   "cell_type": "code",
   "execution_count": 15,
   "metadata": {},
   "outputs": [],
   "source": [
    "from sklearn.pipeline import Pipeline\n",
    "from feature_engine.discretisation import EqualFrequencyDiscretiser, EqualWidthDiscretiser\n",
    "from feature_engine.imputation import MeanMedianImputer\n",
    "from feature_engine.wrappers import SklearnTransformerWrapper\n",
    "from sklearn.preprocessing import RobustScaler, StandardScaler\n",
    "\n",
    "import sys\n",
    "import joblib\n",
    "sys.path.insert(0,'../src/')\n",
    "from utils.utils import load_config_file\n",
    "\n",
    "from data.data_load import DataLoad\n",
    "from data.data_validation import DataValidation\n",
    "from data.data_transformation import DataTransformation\n",
    "from data.data_preprocess import DataPreprocess\n",
    "from train.train import TrainModels\n",
    "from sklearn.linear_model import LogisticRegression\n",
    "from evaluation.classifier_eval import ModelEvaluation"
   ]
  },
  {
   "cell_type": "markdown",
   "metadata": {},
   "source": [
    "# Data Load"
   ]
  },
  {
   "cell_type": "code",
   "execution_count": 16,
   "metadata": {},
   "outputs": [
    {
     "name": "stdout",
     "output_type": "stream",
     "text": [
      "2024-01-18 07:26:40 [info     ] Initiating data load with name: train_dataset_name\n"
     ]
    }
   ],
   "source": [
    "dl = DataLoad()\n",
    "df = dl.load_data('train_dataset_name')"
   ]
  },
  {
   "cell_type": "code",
   "execution_count": null,
   "metadata": {},
   "outputs": [],
   "source": []
  },
  {
   "cell_type": "markdown",
   "metadata": {},
   "source": [
    "# Data Validation"
   ]
  },
  {
   "cell_type": "code",
   "execution_count": 17,
   "metadata": {},
   "outputs": [
    {
     "name": "stdout",
     "output_type": "stream",
     "text": [
      "2024-01-18 07:26:41 [info     ] Initiating validation...      \n",
      "2024-01-18 07:26:41 [info     ] Validation columns passed...  \n",
      "2024-01-18 07:26:41 [info     ] Success on validate data      \n"
     ]
    }
   ],
   "source": [
    "dv = DataValidation()\n",
    "is_valid = dv.run(df)"
   ]
  },
  {
   "cell_type": "code",
   "execution_count": null,
   "metadata": {},
   "outputs": [],
   "source": []
  },
  {
   "cell_type": "markdown",
   "metadata": {},
   "source": [
    "# Data Transformation"
   ]
  },
  {
   "cell_type": "code",
   "execution_count": 18,
   "metadata": {},
   "outputs": [],
   "source": [
    "dt = DataTransformation(df)"
   ]
  },
  {
   "cell_type": "code",
   "execution_count": 19,
   "metadata": {},
   "outputs": [],
   "source": [
    "X_train, X_val, y_train, y_val = dt.train_test_spliting()"
   ]
  },
  {
   "cell_type": "code",
   "execution_count": null,
   "metadata": {},
   "outputs": [],
   "source": []
  },
  {
   "cell_type": "markdown",
   "metadata": {},
   "source": [
    "# Experimentations"
   ]
  },
  {
   "cell_type": "code",
   "execution_count": 20,
   "metadata": {},
   "outputs": [],
   "source": [
    "import mlflow\n",
    "from mlflow.tracking import MlflowClient"
   ]
  },
  {
   "cell_type": "code",
   "execution_count": 21,
   "metadata": {},
   "outputs": [
    {
     "data": {
      "text/plain": [
       "<Experiment: artifact_location='mlflow-artifacts:/1', creation_time=1705570296224, experiment_id='1', last_update_time=1705570296224, lifecycle_stage='active', name='prob_loan', tags={}>"
      ]
     },
     "execution_count": 21,
     "metadata": {},
     "output_type": "execute_result"
    }
   ],
   "source": [
    "mlflow.set_tracking_uri('http://127.0.0.1:5000')\n",
    "mlflow.set_experiment('prob_loan')"
   ]
  },
  {
   "cell_type": "markdown",
   "metadata": {},
   "source": [
    "## Hyperparameters"
   ]
  },
  {
   "cell_type": "code",
   "execution_count": 22,
   "metadata": {},
   "outputs": [],
   "source": [
    "from mlflow.models import MetricThreshold, infer_signature\n",
    "from sklearn.dummy import DummyClassifier"
   ]
  },
  {
   "cell_type": "code",
   "execution_count": 23,
   "metadata": {},
   "outputs": [],
   "source": [
    "from hyperopt import fmin, tpe, hp, STATUS_OK"
   ]
  },
  {
   "cell_type": "code",
   "execution_count": 24,
   "metadata": {},
   "outputs": [],
   "source": [
    "pipe = Pipeline(\n",
    "    [\n",
    "    ('imputer', MeanMedianImputer(variables=load_config_file().get('vars_imputer'))),\n",
    "        ('discretizer', EqualFrequencyDiscretiser(variables=load_config_file().get('vars_discretizer'))),\n",
    "            ('scaler', SklearnTransformerWrapper(StandardScaler()))\n",
    "        ]\n",
    "            )"
   ]
  },
  {
   "cell_type": "code",
   "execution_count": 25,
   "metadata": {},
   "outputs": [],
   "source": [
    "def objective(params):\n",
    "\n",
    "    with mlflow.start_run(run_name='with_discretizer_hyperopt'):\n",
    "        mlflow.set_tag('model_name','lr_hyperopt')\n",
    "        mlflow.log_params(params)\n",
    "\n",
    "        preprocessor = DataPreprocess(pipe)\n",
    "        preprocessor.train(X_train)\n",
    "\n",
    "        X_train_processed = preprocessor.transform(X_train)\n",
    "        X_val_processed = preprocessor.transform(X_val)\n",
    "        joblib.dump(preprocessor,'../models/preprocessor.pkl')\n",
    "\n",
    "        mlflow.log_artifact('../models/preprocessor.pkl')\n",
    "        mlflow.log_params(params={'imputer':pipe['imputer'], 'discretizer': pipe['discretizer'], 'scaler': pipe['scaler']})\n",
    "\n",
    "        model = LogisticRegression(**params)\n",
    "\n",
    "        model_eval = ModelEvaluation(model, X_train_processed, y_train, n_splits=5)\n",
    "        roc_auc_scores = model_eval.cross_val_evaluate()\n",
    "        mlflow.log_metric('train_roc_auc',roc_auc_scores.mean())\n",
    "\n",
    "        model.fit(X_train_processed, y_train)\n",
    "\n",
    "        y_val_preds = model_eval.model.predict_proba(X_val_processed)[:,1]\n",
    "        val_roc_auc = model_eval.evaluate_predictions(y_val,y_val_preds)\n",
    "        \n",
    "        mlflow.log_metric('val_roc_auc',val_roc_auc)\n",
    "\n",
    "\n",
    "        candidate_model_uri = mlflow.sklearn.log_model(model, 'lr_model').model_uri\n",
    "\n",
    "        signature = infer_signature(X_val_processed, y_val)\n",
    "\n",
    "        eval_data = X_val_processed\n",
    "        eval_data['label'] = y_val\n",
    "\n",
    "        thresholds = {\n",
    "            'accuracy_score': MetricThreshold(threshold=0.1, # o score da acuracia precisa ser > 0,7\n",
    "                            min_absolute_change=0.05, min_relative_change=0.05, greater_is_better=True)\n",
    "        }\n",
    "        baseline_model = DummyClassifier(strategy='uniform').fit(X_train_processed, y_train)\n",
    "        baseline_model_uri = mlflow.sklearn.log_model(baseline_model, 'baseline_model',signature=signature).model_uri\n",
    "\n",
    "        mlflow.evaluate(candidate_model_uri,eval_data, \n",
    "                        targets='label',model_type='classifier',validation_thresholds=thresholds,\n",
    "                        baseline_model = baseline_model_uri)\n",
    "        \n",
    "        # explicabilidade shape\n",
    "        # mlflow.shap.log_explanation(model.predict,X_val_processed.drop('label', axis = 1))\n",
    "        \n",
    "        mlflow.end_run()\n",
    "\n",
    "        return {'loss': -1*roc_auc_scores.mean(), 'status': STATUS_OK}"
   ]
  },
  {
   "cell_type": "code",
   "execution_count": 26,
   "metadata": {},
   "outputs": [],
   "source": [
    "search_space = {'warm_start' : hp.choice('warm_start', [True, False]),\n",
    "                'fit_intercept' : hp.choice('fit_intercept', [True, False]),\n",
    "                'tol' : hp.uniform('tol', 0.00001, 0.0001),\n",
    "                'C' : hp.uniform('C', 0.05, 3),\n",
    "                'solver' : hp.choice('solver', ['newton-cg', 'lbfgs', 'liblinear']),\n",
    "                'max_iter' : hp.choice('max_iter', range(100,1000)),\n",
    "                'multi_class' : 'auto',\n",
    "                'class_weight' : hp.choice('class_weight', [None, 'balanced'])}"
   ]
  },
  {
   "cell_type": "code",
   "execution_count": 27,
   "metadata": {},
   "outputs": [
    {
     "name": "stdout",
     "output_type": "stream",
     "text": [
      "  0%|          | 0/5 [00:00<?, ?trial/s, best loss=?]"
     ]
    },
    {
     "name": "stdout",
     "output_type": "stream",
     "text": [
      "2024-01-18 07:26:41                                   [info     ] Starting preprocessing...     \n",
      "2024-01-18 07:26:41                                   [info     ] Initiating preprocessor data transformation...\n",
      "2024-01-18 07:26:41                                   [info     ] Initiating preprocessor data transformation...\n",
      "2024-01-18 07:26:41                                   [info     ] Initiating cross validation...\n",
      "2024-01-18 07:26:42                                   [info     ] Initiating model validation...\n",
      "  0%|          | 0/5 [00:01<?, ?trial/s, best loss=?]"
     ]
    },
    {
     "name": "stderr",
     "output_type": "stream",
     "text": [
      "Distutils was imported before Setuptools, but importing Setuptools also replaces the `distutils` module in `sys.modules`. This may lead to undesirable behaviors or errors. To avoid these issues, avoid using distutils directly, ensure that setuptools is installed in the traditional way (e.g. not an editable install), and/or make sure that setuptools is always imported before distutils.\n",
      "\n",
      "Setuptools is replacing distutils.\n",
      "\n",
      "Hint: Inferred schema contains integer column(s). Integer columns in Python cannot represent missing values. If your input data contains missing values at inference time, it will be encoded as floats and will cause a schema enforcement error. The best way to avoid this problem is to infer the model schema based on a realistic data sample (training dataset) that includes missing values. Alternatively, you can declare integer columns as doubles (float64) whenever these columns may have missing values. See `Handling Integers With Missing Values <https://www.mlflow.org/docs/latest/models.html#handling-integers-with-missing-values>`_ for more details.\n",
      "\n",
      "Distutils was imported before Setuptools, but importing Setuptools also replaces the `distutils` module in `sys.modules`. This may lead to undesirable behaviors or errors. To avoid these issues, avoid using distutils directly, ensure that setuptools is installed in the traditional way (e.g. not an editable install), and/or make sure that setuptools is always imported before distutils.\n",
      "\n",
      "Setuptools is replacing distutils.\n",
      "\n",
      "Downloading artifacts:   0%|          | 0/5 [00:00<?, ?it/s]\n",
      "\n",
      "Downloading artifacts:  20%|##        | 1/5 [00:00<00:00, 33.33it/s]\n",
      "\n",
      "Downloading artifacts:  40%|####      | 2/5 [00:00<00:00, 58.83it/s]\n",
      "\n",
      "Downloading artifacts:  60%|######    | 3/5 [00:00<00:00, 81.09it/s]\n",
      "\n",
      "Downloading artifacts:  80%|########  | 4/5 [00:00<00:00, 97.56it/s]\n",
      "\n",
      "Downloading artifacts: 100%|##########| 5/5 [00:00<00:00, 116.28it/s]\n",
      "\n",
      "Downloading artifacts: 100%|##########| 5/5 [00:00<00:00, 111.11it/s]\n",
      "Downloading artifacts:   0%|          | 0/5 [00:00<?, ?it/s]\n",
      "\n",
      "Downloading artifacts:  20%|##        | 1/5 [00:00<00:00, 42.74it/s]\n",
      "\n",
      "Downloading artifacts:  40%|####      | 2/5 [00:00<00:00, 70.43it/s]\n",
      "\n",
      "Downloading artifacts:  60%|######    | 3/5 [00:00<00:00, 92.59it/s]\n",
      "\n",
      "Downloading artifacts:  80%|########  | 4/5 [00:00<00:00, 109.89it/s]\n",
      "\n",
      "Downloading artifacts: 100%|##########| 5/5 [00:00<00:00, 103.31it/s]\n",
      "\n",
      "Downloading artifacts: 100%|##########| 5/5 [00:00<00:00, 99.21it/s] \n",
      "DataFrame.applymap has been deprecated. Use DataFrame.map instead.\n",
      "\n",
      "DataFrame.applymap has been deprecated. Use DataFrame.map instead.\n",
      "\n",
      "DataFrame.applymap has been deprecated. Use DataFrame.map instead.\n",
      "\n",
      "Hint: Inferred schema contains integer column(s). Integer columns in Python cannot represent missing values. If your input data contains missing values at inference time, it will be encoded as floats and will cause a schema enforcement error. The best way to avoid this problem is to infer the model schema based on a realistic data sample (training dataset) that includes missing values. Alternatively, you can declare integer columns as doubles (float64) whenever these columns may have missing values. See `Handling Integers With Missing Values <https://www.mlflow.org/docs/latest/models.html#handling-integers-with-missing-values>`_ for more details.\n",
      "\n",
      "2024/01/18 07:26:49 INFO mlflow.models.evaluation.base: Evaluating the model with the default evaluator.\n",
      "\n",
      "2024/01/18 07:26:49 INFO mlflow.models.evaluation.default_evaluator: Evaluating candidate model:\n",
      "\n",
      "2024/01/18 07:26:49 INFO mlflow.models.evaluation.default_evaluator: Computing model predictions.\n",
      "\n",
      "2024/01/18 07:26:49 INFO mlflow.models.evaluation.default_evaluator: The evaluation dataset is inferred as binary dataset, positive label is 1, negative label is 0.\n",
      "\n",
      "2024/01/18 07:26:49 INFO mlflow.models.evaluation.default_evaluator: Testing metrics on first row...\n",
      "\n",
      "2024/01/18 07:26:50 INFO mlflow.models.evaluation.default_evaluator: Shap explainer LinearExplainer is used.\n",
      "\n",
      "Unable to serialize underlying model using MLflow, will use SHAP serialization\n",
      "\n",
      "2024/01/18 07:26:50 WARNING mlflow.models.evaluation.default_evaluator: Logging explainer failed. Reason: AttributeError(\"'LogisticRegression' object has no attribute 'save'\"). Set logging level to DEBUG to see the full traceback.\n",
      "\n",
      "2024/01/18 07:26:51 INFO mlflow.models.evaluation.default_evaluator: Evaluating baseline model:\n",
      "\n",
      "2024/01/18 07:26:51 INFO mlflow.models.evaluation.default_evaluator: Computing model predictions.\n",
      "\n",
      "2024/01/18 07:26:51 INFO mlflow.models.evaluation.default_evaluator: The evaluation dataset is inferred as binary dataset, positive label is 1, negative label is 0.\n",
      "\n",
      "2024/01/18 07:26:51 INFO mlflow.models.evaluation.default_evaluator: Testing metrics on first row...\n",
      "\n",
      "2024/01/18 07:26:51 INFO mlflow.models.evaluation.base: Validating generated model metrics\n",
      "\n",
      "2024/01/18 07:26:51 INFO mlflow.models.evaluation.base: Model validation passed!\n",
      "\n"
     ]
    },
    {
     "name": "stdout",
     "output_type": "stream",
     "text": [
      "2024-01-18 07:26:51                                                              [info     ] Starting preprocessing...     \n",
      "2024-01-18 07:26:52                                                              [info     ] Initiating preprocessor data transformation...\n",
      "2024-01-18 07:26:52                                                              [info     ] Initiating preprocessor data transformation...\n",
      "2024-01-18 07:26:52                                                              [info     ] Initiating cross validation...\n",
      "2024-01-18 07:26:53                                                              [info     ] Initiating model validation...\n",
      " 20%|██        | 1/5 [00:12<00:41, 10.31s/trial, best loss: -0.7919636161700507]"
     ]
    },
    {
     "name": "stderr",
     "output_type": "stream",
     "text": [
      "Distutils was imported before Setuptools, but importing Setuptools also replaces the `distutils` module in `sys.modules`. This may lead to undesirable behaviors or errors. To avoid these issues, avoid using distutils directly, ensure that setuptools is installed in the traditional way (e.g. not an editable install), and/or make sure that setuptools is always imported before distutils.\n",
      "\n",
      "Setuptools is replacing distutils.\n",
      "\n",
      "Hint: Inferred schema contains integer column(s). Integer columns in Python cannot represent missing values. If your input data contains missing values at inference time, it will be encoded as floats and will cause a schema enforcement error. The best way to avoid this problem is to infer the model schema based on a realistic data sample (training dataset) that includes missing values. Alternatively, you can declare integer columns as doubles (float64) whenever these columns may have missing values. See `Handling Integers With Missing Values <https://www.mlflow.org/docs/latest/models.html#handling-integers-with-missing-values>`_ for more details.\n",
      "\n",
      "Distutils was imported before Setuptools, but importing Setuptools also replaces the `distutils` module in `sys.modules`. This may lead to undesirable behaviors or errors. To avoid these issues, avoid using distutils directly, ensure that setuptools is installed in the traditional way (e.g. not an editable install), and/or make sure that setuptools is always imported before distutils.\n",
      "\n",
      "Setuptools is replacing distutils.\n",
      "\n",
      "Downloading artifacts:   0%|          | 0/5 [00:00<?, ?it/s]\n",
      "\n",
      "Downloading artifacts:  20%|##        | 1/5 [00:00<00:00, 44.73it/s]\n",
      "\n",
      "Downloading artifacts:  40%|####      | 2/5 [00:00<00:00, 70.53it/s]\n",
      "\n",
      "Downloading artifacts:  60%|######    | 3/5 [00:00<00:00, 89.94it/s]\n",
      "\n",
      "Downloading artifacts:  80%|########  | 4/5 [00:00<00:00, 110.02it/s]\n",
      "\n",
      "Downloading artifacts: 100%|##########| 5/5 [00:00<00:00, 120.88it/s]\n",
      "\n",
      "Downloading artifacts: 100%|##########| 5/5 [00:00<00:00, 115.33it/s]\n",
      "Downloading artifacts:   0%|          | 0/5 [00:00<?, ?it/s]\n",
      "\n",
      "Downloading artifacts:  20%|##        | 1/5 [00:00<00:00, 33.01it/s]\n",
      "\n",
      "Downloading artifacts:  40%|####      | 2/5 [00:00<00:00, 58.32it/s]\n",
      "\n",
      "Downloading artifacts:  60%|######    | 3/5 [00:00<00:00, 78.34it/s]\n",
      "\n",
      "Downloading artifacts:  80%|########  | 4/5 [00:00<00:00, 94.58it/s]\n",
      "\n",
      "Downloading artifacts: 100%|##########| 5/5 [00:00<00:00, 112.88it/s]\n",
      "\n",
      "Downloading artifacts: 100%|##########| 5/5 [00:00<00:00, 108.01it/s]\n",
      "DataFrame.applymap has been deprecated. Use DataFrame.map instead.\n",
      "\n",
      "DataFrame.applymap has been deprecated. Use DataFrame.map instead.\n",
      "\n",
      "DataFrame.applymap has been deprecated. Use DataFrame.map instead.\n",
      "\n",
      "Hint: Inferred schema contains integer column(s). Integer columns in Python cannot represent missing values. If your input data contains missing values at inference time, it will be encoded as floats and will cause a schema enforcement error. The best way to avoid this problem is to infer the model schema based on a realistic data sample (training dataset) that includes missing values. Alternatively, you can declare integer columns as doubles (float64) whenever these columns may have missing values. See `Handling Integers With Missing Values <https://www.mlflow.org/docs/latest/models.html#handling-integers-with-missing-values>`_ for more details.\n",
      "\n",
      "2024/01/18 07:26:59 INFO mlflow.models.evaluation.base: Evaluating the model with the default evaluator.\n",
      "\n",
      "2024/01/18 07:26:59 INFO mlflow.models.evaluation.default_evaluator: Evaluating candidate model:\n",
      "\n",
      "2024/01/18 07:26:59 INFO mlflow.models.evaluation.default_evaluator: Computing model predictions.\n",
      "\n",
      "2024/01/18 07:26:59 INFO mlflow.models.evaluation.default_evaluator: The evaluation dataset is inferred as binary dataset, positive label is 1, negative label is 0.\n",
      "\n",
      "2024/01/18 07:26:59 INFO mlflow.models.evaluation.default_evaluator: Testing metrics on first row...\n",
      "\n",
      "2024/01/18 07:27:00 INFO mlflow.models.evaluation.default_evaluator: Shap explainer LinearExplainer is used.\n",
      "\n",
      "Unable to serialize underlying model using MLflow, will use SHAP serialization\n",
      "\n",
      "2024/01/18 07:27:00 WARNING mlflow.models.evaluation.default_evaluator: Logging explainer failed. Reason: AttributeError(\"'LogisticRegression' object has no attribute 'save'\"). Set logging level to DEBUG to see the full traceback.\n",
      "\n",
      "2024/01/18 07:27:02 INFO mlflow.models.evaluation.default_evaluator: Evaluating baseline model:\n",
      "\n",
      "2024/01/18 07:27:02 INFO mlflow.models.evaluation.default_evaluator: Computing model predictions.\n",
      "\n",
      "2024/01/18 07:27:02 INFO mlflow.models.evaluation.default_evaluator: The evaluation dataset is inferred as binary dataset, positive label is 1, negative label is 0.\n",
      "\n",
      "2024/01/18 07:27:02 INFO mlflow.models.evaluation.default_evaluator: Testing metrics on first row...\n",
      "\n",
      "2024/01/18 07:27:02 INFO mlflow.models.evaluation.base: Validating generated model metrics\n",
      "\n",
      "2024/01/18 07:27:02 INFO mlflow.models.evaluation.base: Model validation passed!\n",
      "\n"
     ]
    },
    {
     "name": "stdout",
     "output_type": "stream",
     "text": [
      "2024-01-18 07:27:02                                                              [info     ] Starting preprocessing...     \n",
      "2024-01-18 07:27:02                                                              [info     ] Initiating preprocessor data transformation...\n",
      "2024-01-18 07:27:02                                                              [info     ] Initiating preprocessor data transformation...\n",
      "2024-01-18 07:27:02                                                              [info     ] Initiating cross validation...\n",
      "2024-01-18 07:27:03                                                              [info     ] Initiating model validation...\n",
      " 40%|████      | 2/5 [00:22<00:30, 10.28s/trial, best loss: -0.8230082262376218]"
     ]
    },
    {
     "name": "stderr",
     "output_type": "stream",
     "text": [
      "Distutils was imported before Setuptools, but importing Setuptools also replaces the `distutils` module in `sys.modules`. This may lead to undesirable behaviors or errors. To avoid these issues, avoid using distutils directly, ensure that setuptools is installed in the traditional way (e.g. not an editable install), and/or make sure that setuptools is always imported before distutils.\n",
      "\n",
      "Setuptools is replacing distutils.\n",
      "\n",
      "Hint: Inferred schema contains integer column(s). Integer columns in Python cannot represent missing values. If your input data contains missing values at inference time, it will be encoded as floats and will cause a schema enforcement error. The best way to avoid this problem is to infer the model schema based on a realistic data sample (training dataset) that includes missing values. Alternatively, you can declare integer columns as doubles (float64) whenever these columns may have missing values. See `Handling Integers With Missing Values <https://www.mlflow.org/docs/latest/models.html#handling-integers-with-missing-values>`_ for more details.\n",
      "\n",
      "Distutils was imported before Setuptools, but importing Setuptools also replaces the `distutils` module in `sys.modules`. This may lead to undesirable behaviors or errors. To avoid these issues, avoid using distutils directly, ensure that setuptools is installed in the traditional way (e.g. not an editable install), and/or make sure that setuptools is always imported before distutils.\n",
      "\n",
      "Setuptools is replacing distutils.\n",
      "\n",
      "Downloading artifacts:   0%|          | 0/5 [00:00<?, ?it/s]\n",
      "\n",
      "Downloading artifacts:  20%|##        | 1/5 [00:00<00:00, 52.75it/s]\n",
      "\n",
      "Downloading artifacts:  40%|####      | 2/5 [00:00<00:00, 80.14it/s]\n",
      "\n",
      "Downloading artifacts:  60%|######    | 3/5 [00:00<00:00, 103.60it/s]\n",
      "\n",
      "Downloading artifacts:  80%|########  | 4/5 [00:00<00:00, 67.82it/s] \n",
      "\n",
      "Downloading artifacts: 100%|##########| 5/5 [00:00<00:00, 80.67it/s]\n",
      "\n",
      "Downloading artifacts: 100%|##########| 5/5 [00:00<00:00, 79.39it/s]\n",
      "Downloading artifacts:   0%|          | 0/5 [00:00<?, ?it/s]\n",
      "\n",
      "Downloading artifacts:  20%|##        | 1/5 [00:00<00:00, 34.48it/s]\n",
      "\n",
      "Downloading artifacts:  40%|####      | 2/5 [00:00<00:00, 60.60it/s]\n",
      "\n",
      "Downloading artifacts:  60%|######    | 3/5 [00:00<00:00, 83.34it/s]\n",
      "\n",
      "Downloading artifacts:  80%|########  | 4/5 [00:00<00:00, 102.57it/s]\n",
      "\n",
      "Downloading artifacts: 100%|##########| 5/5 [00:00<00:00, 106.38it/s]\n",
      "\n",
      "Downloading artifacts: 100%|##########| 5/5 [00:00<00:00, 102.01it/s]\n",
      "DataFrame.applymap has been deprecated. Use DataFrame.map instead.\n",
      "\n",
      "DataFrame.applymap has been deprecated. Use DataFrame.map instead.\n",
      "\n",
      "DataFrame.applymap has been deprecated. Use DataFrame.map instead.\n",
      "\n",
      "Hint: Inferred schema contains integer column(s). Integer columns in Python cannot represent missing values. If your input data contains missing values at inference time, it will be encoded as floats and will cause a schema enforcement error. The best way to avoid this problem is to infer the model schema based on a realistic data sample (training dataset) that includes missing values. Alternatively, you can declare integer columns as doubles (float64) whenever these columns may have missing values. See `Handling Integers With Missing Values <https://www.mlflow.org/docs/latest/models.html#handling-integers-with-missing-values>`_ for more details.\n",
      "\n",
      "2024/01/18 07:27:09 INFO mlflow.models.evaluation.base: Evaluating the model with the default evaluator.\n",
      "\n",
      "2024/01/18 07:27:09 INFO mlflow.models.evaluation.default_evaluator: Evaluating candidate model:\n",
      "\n",
      "2024/01/18 07:27:09 INFO mlflow.models.evaluation.default_evaluator: Computing model predictions.\n",
      "\n",
      "2024/01/18 07:27:09 INFO mlflow.models.evaluation.default_evaluator: The evaluation dataset is inferred as binary dataset, positive label is 1, negative label is 0.\n",
      "\n",
      "2024/01/18 07:27:10 INFO mlflow.models.evaluation.default_evaluator: Testing metrics on first row...\n",
      "\n",
      "2024/01/18 07:27:11 INFO mlflow.models.evaluation.default_evaluator: Shap explainer LinearExplainer is used.\n",
      "\n",
      "Unable to serialize underlying model using MLflow, will use SHAP serialization\n",
      "\n",
      "2024/01/18 07:27:11 WARNING mlflow.models.evaluation.default_evaluator: Logging explainer failed. Reason: AttributeError(\"'LogisticRegression' object has no attribute 'save'\"). Set logging level to DEBUG to see the full traceback.\n",
      "\n",
      "2024/01/18 07:27:12 INFO mlflow.models.evaluation.default_evaluator: Evaluating baseline model:\n",
      "\n",
      "2024/01/18 07:27:12 INFO mlflow.models.evaluation.default_evaluator: Computing model predictions.\n",
      "\n",
      "2024/01/18 07:27:12 INFO mlflow.models.evaluation.default_evaluator: The evaluation dataset is inferred as binary dataset, positive label is 1, negative label is 0.\n",
      "\n",
      "2024/01/18 07:27:12 INFO mlflow.models.evaluation.default_evaluator: Testing metrics on first row...\n",
      "\n",
      "2024/01/18 07:27:12 INFO mlflow.models.evaluation.base: Validating generated model metrics\n",
      "\n",
      "2024/01/18 07:27:12 INFO mlflow.models.evaluation.base: Model validation passed!\n",
      "\n"
     ]
    },
    {
     "name": "stdout",
     "output_type": "stream",
     "text": [
      "2024-01-18 07:27:12                                                              [info     ] Starting preprocessing...     \n",
      "2024-01-18 07:27:12                                                              [info     ] Initiating preprocessor data transformation...\n",
      "2024-01-18 07:27:12                                                              [info     ] Initiating preprocessor data transformation...\n",
      "2024-01-18 07:27:12                                                              [info     ] Initiating cross validation...\n",
      "2024-01-18 07:27:13                                                              [info     ] Initiating model validation...\n",
      " 60%|██████    | 3/5 [00:31<00:20, 10.24s/trial, best loss: -0.8334516351645499]"
     ]
    },
    {
     "name": "stderr",
     "output_type": "stream",
     "text": [
      "Distutils was imported before Setuptools, but importing Setuptools also replaces the `distutils` module in `sys.modules`. This may lead to undesirable behaviors or errors. To avoid these issues, avoid using distutils directly, ensure that setuptools is installed in the traditional way (e.g. not an editable install), and/or make sure that setuptools is always imported before distutils.\n",
      "\n",
      "Setuptools is replacing distutils.\n",
      "\n",
      "Hint: Inferred schema contains integer column(s). Integer columns in Python cannot represent missing values. If your input data contains missing values at inference time, it will be encoded as floats and will cause a schema enforcement error. The best way to avoid this problem is to infer the model schema based on a realistic data sample (training dataset) that includes missing values. Alternatively, you can declare integer columns as doubles (float64) whenever these columns may have missing values. See `Handling Integers With Missing Values <https://www.mlflow.org/docs/latest/models.html#handling-integers-with-missing-values>`_ for more details.\n",
      "\n",
      "Distutils was imported before Setuptools, but importing Setuptools also replaces the `distutils` module in `sys.modules`. This may lead to undesirable behaviors or errors. To avoid these issues, avoid using distutils directly, ensure that setuptools is installed in the traditional way (e.g. not an editable install), and/or make sure that setuptools is always imported before distutils.\n",
      "\n",
      "Setuptools is replacing distutils.\n",
      "\n",
      "Downloading artifacts:   0%|          | 0/5 [00:00<?, ?it/s]\n",
      "\n",
      "Downloading artifacts:  20%|##        | 1/5 [00:00<00:00, 43.48it/s]\n",
      "\n",
      "Downloading artifacts:  40%|####      | 2/5 [00:00<00:00, 68.97it/s]\n",
      "\n",
      "Downloading artifacts:  60%|######    | 3/5 [00:00<00:00, 90.91it/s]\n",
      "\n",
      "Downloading artifacts:  80%|########  | 4/5 [00:00<00:00, 100.00it/s]\n",
      "\n",
      "Downloading artifacts: 100%|##########| 5/5 [00:00<00:00, 106.38it/s]\n",
      "\n",
      "Downloading artifacts: 100%|##########| 5/5 [00:00<00:00, 102.04it/s]\n",
      "Downloading artifacts:   0%|          | 0/5 [00:00<?, ?it/s]\n",
      "\n",
      "Downloading artifacts:  20%|##        | 1/5 [00:00<00:00, 45.46it/s]\n",
      "\n",
      "Downloading artifacts:  40%|####      | 2/5 [00:00<00:00, 80.00it/s]\n",
      "\n",
      "Downloading artifacts:  60%|######    | 3/5 [00:00<00:00, 107.14it/s]\n",
      "\n",
      "Downloading artifacts:  80%|########  | 4/5 [00:00<00:00, 80.00it/s] \n",
      "\n",
      "Downloading artifacts: 100%|##########| 5/5 [00:00<00:00, 70.42it/s]\n",
      "\n",
      "Downloading artifacts: 100%|##########| 5/5 [00:00<00:00, 68.49it/s]\n",
      "DataFrame.applymap has been deprecated. Use DataFrame.map instead.\n",
      "\n",
      "DataFrame.applymap has been deprecated. Use DataFrame.map instead.\n",
      "\n",
      "DataFrame.applymap has been deprecated. Use DataFrame.map instead.\n",
      "\n",
      "Hint: Inferred schema contains integer column(s). Integer columns in Python cannot represent missing values. If your input data contains missing values at inference time, it will be encoded as floats and will cause a schema enforcement error. The best way to avoid this problem is to infer the model schema based on a realistic data sample (training dataset) that includes missing values. Alternatively, you can declare integer columns as doubles (float64) whenever these columns may have missing values. See `Handling Integers With Missing Values <https://www.mlflow.org/docs/latest/models.html#handling-integers-with-missing-values>`_ for more details.\n",
      "\n",
      "2024/01/18 07:27:19 INFO mlflow.models.evaluation.base: Evaluating the model with the default evaluator.\n",
      "\n",
      "2024/01/18 07:27:19 INFO mlflow.models.evaluation.default_evaluator: Evaluating candidate model:\n",
      "\n",
      "2024/01/18 07:27:19 INFO mlflow.models.evaluation.default_evaluator: Computing model predictions.\n",
      "\n",
      "2024/01/18 07:27:19 INFO mlflow.models.evaluation.default_evaluator: The evaluation dataset is inferred as binary dataset, positive label is 1, negative label is 0.\n",
      "\n",
      "2024/01/18 07:27:19 INFO mlflow.models.evaluation.default_evaluator: Testing metrics on first row...\n",
      "\n",
      "2024/01/18 07:27:20 INFO mlflow.models.evaluation.default_evaluator: Shap explainer LinearExplainer is used.\n",
      "\n",
      "Unable to serialize underlying model using MLflow, will use SHAP serialization\n",
      "\n",
      "2024/01/18 07:27:20 WARNING mlflow.models.evaluation.default_evaluator: Logging explainer failed. Reason: AttributeError(\"'LogisticRegression' object has no attribute 'save'\"). Set logging level to DEBUG to see the full traceback.\n",
      "\n",
      "2024/01/18 07:27:22 INFO mlflow.models.evaluation.default_evaluator: Evaluating baseline model:\n",
      "\n",
      "2024/01/18 07:27:22 INFO mlflow.models.evaluation.default_evaluator: Computing model predictions.\n",
      "\n",
      "2024/01/18 07:27:22 INFO mlflow.models.evaluation.default_evaluator: The evaluation dataset is inferred as binary dataset, positive label is 1, negative label is 0.\n",
      "\n",
      "2024/01/18 07:27:22 INFO mlflow.models.evaluation.default_evaluator: Testing metrics on first row...\n",
      "\n",
      "2024/01/18 07:27:22 INFO mlflow.models.evaluation.base: Validating generated model metrics\n",
      "\n",
      "2024/01/18 07:27:22 INFO mlflow.models.evaluation.base: Model validation passed!\n",
      "\n"
     ]
    },
    {
     "name": "stdout",
     "output_type": "stream",
     "text": [
      "2024-01-18 07:27:22                                                              [info     ] Starting preprocessing...     \n",
      "2024-01-18 07:27:22                                                              [info     ] Initiating preprocessor data transformation...\n",
      "2024-01-18 07:27:22                                                              [info     ] Initiating preprocessor data transformation...\n",
      "2024-01-18 07:27:22                                                              [info     ] Initiating cross validation...\n",
      "2024-01-18 07:27:24                                                              [info     ] Initiating model validation...\n",
      " 80%|████████  | 4/5 [00:42<00:10, 10.09s/trial, best loss: -0.8334714654361722]"
     ]
    },
    {
     "name": "stderr",
     "output_type": "stream",
     "text": [
      "Distutils was imported before Setuptools, but importing Setuptools also replaces the `distutils` module in `sys.modules`. This may lead to undesirable behaviors or errors. To avoid these issues, avoid using distutils directly, ensure that setuptools is installed in the traditional way (e.g. not an editable install), and/or make sure that setuptools is always imported before distutils.\n",
      "\n",
      "Setuptools is replacing distutils.\n",
      "\n",
      "Hint: Inferred schema contains integer column(s). Integer columns in Python cannot represent missing values. If your input data contains missing values at inference time, it will be encoded as floats and will cause a schema enforcement error. The best way to avoid this problem is to infer the model schema based on a realistic data sample (training dataset) that includes missing values. Alternatively, you can declare integer columns as doubles (float64) whenever these columns may have missing values. See `Handling Integers With Missing Values <https://www.mlflow.org/docs/latest/models.html#handling-integers-with-missing-values>`_ for more details.\n",
      "\n",
      "Distutils was imported before Setuptools, but importing Setuptools also replaces the `distutils` module in `sys.modules`. This may lead to undesirable behaviors or errors. To avoid these issues, avoid using distutils directly, ensure that setuptools is installed in the traditional way (e.g. not an editable install), and/or make sure that setuptools is always imported before distutils.\n",
      "\n",
      "Setuptools is replacing distutils.\n",
      "\n",
      "Downloading artifacts:   0%|          | 0/5 [00:00<?, ?it/s]\n",
      "\n",
      "Downloading artifacts:  20%|##        | 1/5 [00:00<00:00, 58.82it/s]\n",
      "\n",
      "Downloading artifacts:  40%|####      | 2/5 [00:00<00:00, 90.91it/s]\n",
      "\n",
      "Downloading artifacts:  60%|######    | 3/5 [00:00<00:00, 75.00it/s]\n",
      "\n",
      "Downloading artifacts:  80%|########  | 4/5 [00:00<00:00, 86.96it/s]\n",
      "\n",
      "Downloading artifacts: 100%|##########| 5/5 [00:00<00:00, 102.04it/s]\n",
      "\n",
      "Downloading artifacts: 100%|##########| 5/5 [00:00<00:00, 94.34it/s] \n",
      "Downloading artifacts:   0%|          | 0/5 [00:00<?, ?it/s]\n",
      "\n",
      "Downloading artifacts:  20%|##        | 1/5 [00:00<00:00, 47.62it/s]\n",
      "\n",
      "Downloading artifacts:  40%|####      | 2/5 [00:00<00:00, 76.93it/s]\n",
      "\n",
      "Downloading artifacts:  60%|######    | 3/5 [00:00<00:00, 68.18it/s]\n",
      "\n",
      "Downloading artifacts:  80%|########  | 4/5 [00:00<00:00, 85.11it/s]\n",
      "\n",
      "Downloading artifacts: 100%|##########| 5/5 [00:00<00:00, 98.04it/s]\n",
      "\n",
      "Downloading artifacts: 100%|##########| 5/5 [00:00<00:00, 94.34it/s]\n",
      "DataFrame.applymap has been deprecated. Use DataFrame.map instead.\n",
      "\n",
      "DataFrame.applymap has been deprecated. Use DataFrame.map instead.\n",
      "\n",
      "DataFrame.applymap has been deprecated. Use DataFrame.map instead.\n",
      "\n",
      "Hint: Inferred schema contains integer column(s). Integer columns in Python cannot represent missing values. If your input data contains missing values at inference time, it will be encoded as floats and will cause a schema enforcement error. The best way to avoid this problem is to infer the model schema based on a realistic data sample (training dataset) that includes missing values. Alternatively, you can declare integer columns as doubles (float64) whenever these columns may have missing values. See `Handling Integers With Missing Values <https://www.mlflow.org/docs/latest/models.html#handling-integers-with-missing-values>`_ for more details.\n",
      "\n",
      "2024/01/18 07:27:31 INFO mlflow.models.evaluation.base: Evaluating the model with the default evaluator.\n",
      "\n",
      "2024/01/18 07:27:31 INFO mlflow.models.evaluation.default_evaluator: Evaluating candidate model:\n",
      "\n",
      "2024/01/18 07:27:31 INFO mlflow.models.evaluation.default_evaluator: Computing model predictions.\n",
      "\n",
      "2024/01/18 07:27:31 INFO mlflow.models.evaluation.default_evaluator: The evaluation dataset is inferred as binary dataset, positive label is 1, negative label is 0.\n",
      "\n",
      "2024/01/18 07:27:31 INFO mlflow.models.evaluation.default_evaluator: Testing metrics on first row...\n",
      "\n",
      "2024/01/18 07:27:32 INFO mlflow.models.evaluation.default_evaluator: Shap explainer LinearExplainer is used.\n",
      "\n",
      "Unable to serialize underlying model using MLflow, will use SHAP serialization\n",
      "\n",
      "2024/01/18 07:27:32 WARNING mlflow.models.evaluation.default_evaluator: Logging explainer failed. Reason: AttributeError(\"'LogisticRegression' object has no attribute 'save'\"). Set logging level to DEBUG to see the full traceback.\n",
      "\n",
      "2024/01/18 07:27:33 INFO mlflow.models.evaluation.default_evaluator: Evaluating baseline model:\n",
      "\n",
      "2024/01/18 07:27:33 INFO mlflow.models.evaluation.default_evaluator: Computing model predictions.\n",
      "\n",
      "2024/01/18 07:27:33 INFO mlflow.models.evaluation.default_evaluator: The evaluation dataset is inferred as binary dataset, positive label is 1, negative label is 0.\n",
      "\n",
      "2024/01/18 07:27:33 INFO mlflow.models.evaluation.default_evaluator: Testing metrics on first row...\n",
      "\n",
      "2024/01/18 07:27:33 INFO mlflow.models.evaluation.base: Validating generated model metrics\n",
      "\n",
      "2024/01/18 07:27:33 INFO mlflow.models.evaluation.base: Model validation passed!\n",
      "\n"
     ]
    },
    {
     "name": "stdout",
     "output_type": "stream",
     "text": [
      "100%|██████████| 5/5 [00:52<00:00, 10.47s/trial, best loss: -0.8334714654361722]\n"
     ]
    }
   ],
   "source": [
    "best_result = fmin(fn=objective,\n",
    "                   space=search_space,\n",
    "                   algo=tpe.suggest,\n",
    "                   max_evals=5)"
   ]
  },
  {
   "cell_type": "code",
   "execution_count": null,
   "metadata": {},
   "outputs": [],
   "source": []
  },
  {
   "cell_type": "code",
   "execution_count": null,
   "metadata": {},
   "outputs": [],
   "source": []
  },
  {
   "cell_type": "code",
   "execution_count": null,
   "metadata": {},
   "outputs": [],
   "source": []
  }
 ],
 "metadata": {
  "kernelspec": {
   "display_name": "Python 3",
   "language": "python",
   "name": "python3"
  },
  "language_info": {
   "codemirror_mode": {
    "name": "ipython",
    "version": 3
   },
   "file_extension": ".py",
   "mimetype": "text/x-python",
   "name": "python",
   "nbconvert_exporter": "python",
   "pygments_lexer": "ipython3",
   "version": "3.10.12"
  }
 },
 "nbformat": 4,
 "nbformat_minor": 2
}
